{
 "cells": [
  {
   "cell_type": "markdown",
   "metadata": {},
   "source": [
    "# Calculating Plama Needed for Next Building Upgrade\n",
    "For figuring out how much plasma you need to steal from Turbo to get to the next building level"
   ]
  },
  {
   "cell_type": "code",
   "execution_count": 3,
   "metadata": {},
   "outputs": [
    {
     "name": "stdout",
     "output_type": "stream",
     "text": [
      "\u001b[1m\u001b[4m\u001b[1m Plasma Building Requirements \u001b[0m\n",
      "Total Plasma Needed = 0\n",
      "Missing Plasma = 0\n"
     ]
    }
   ],
   "source": [
    "#############################################################\n",
    "################ Fill Out Your Values Below #################\n",
    "#############################################################\n",
    "\n",
    "# Plasma Required To Upgrade Building One Level\n",
    "plaslev = 0\n",
    "\n",
    "# Levels Already Upgraded\n",
    "levcomp = 0\n",
    "\n",
    "# Plasma in Backpack\n",
    "plasback = 0\n",
    "\n",
    "\n",
    "#############################################################\n",
    "######################## Actual Code ########################\n",
    "#############################################################\n",
    "\n",
    "# Calculations\n",
    "plasreq=(plaslev*5)-(plaslev*levcomp)\n",
    "plasmiss=plasreq-plasback\n",
    "\n",
    "# Printing\n",
    "print(u\"\\u001b[1m\\u001b[4m\\u001b[1m Plasma Building Requirements \\u001b[0m\")\n",
    "print('Total Plasma Needed =',plasreq)\n",
    "print('Missing Plasma =',plasmiss)\n",
    "\n",
    "\n",
    "#############################################################\n",
    "############## Results Should Be Printed Below ##############\n",
    "#############################################################"
   ]
  },
  {
   "cell_type": "markdown",
   "metadata": {},
   "source": [
    "---"
   ]
  }
 ],
 "metadata": {
  "kernelspec": {
   "display_name": "Python 3",
   "language": "python",
   "name": "python3"
  },
  "language_info": {
   "codemirror_mode": {
    "name": "ipython",
    "version": 3
   },
   "file_extension": ".py",
   "mimetype": "text/x-python",
   "name": "python",
   "nbconvert_exporter": "python",
   "pygments_lexer": "ipython3",
   "version": "3.7.6"
  }
 },
 "nbformat": 4,
 "nbformat_minor": 2
}
