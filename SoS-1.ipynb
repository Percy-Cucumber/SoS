{
 "cells": [
  {
   "cell_type": "markdown",
   "metadata": {},
   "source": [
    "# Converting Total Speedup Time to Minutes\n",
    "For ease of calculating speedups needed for rewards/challenges"
   ]
  },
  {
   "cell_type": "code",
   "execution_count": 13,
   "metadata": {},
   "outputs": [
    {
     "name": "stdout",
     "output_type": "stream",
     "text": [
      "\u001b[1m\u001b[4m\u001b[1m Speedups In Possession \u001b[0m\n",
      "Specific Speedups (min) = 0\n",
      "General Speedups (min) = 0\n",
      "Total Speedups (min) = 0\n",
      "\n",
      "\u001b[1m\u001b[4m\u001b[1m Speedups Required \u001b[0m\n",
      "Total Speedups Needed (min) = 0\n",
      "Missing Speedups (min) = 0\n"
     ]
    }
   ],
   "source": [
    "#############################################################\n",
    "############## How Many Speedups Do You Have? ###############\n",
    "#############################################################\n",
    "\n",
    "# note: just replace the numbers with how many of each speedup type you have in your backpack\n",
    "\n",
    "# Specific Speedups:\n",
    "sm = 0                  # number of 1min specific speedups you have (ie. construction, research, training, etc...)\n",
    "sf = 0                  # number of 5min specific speedups you have (ie. construction, research, training, etc...)\n",
    "sh = 0                  # number of 1h specific speedups you have (ie. construction, research, training, etc...)\n",
    "\n",
    "# General Speedups:\n",
    "gm = 0                  # number of 1min general speedups you have\n",
    "gf = 0                  # number of 5min general speedups you have\n",
    "gh = 0                  # number of 1h general speedups you have\n",
    "\n",
    "\n",
    "#############################################################\n",
    "########## How Much Time Do You Need To Speed Up? ###########\n",
    "#############################################################\n",
    "\n",
    "# note: you can add the value of time you wish to speed up below, to determine whether or not you have enough speedups in your inventory \n",
    "\n",
    "rm = 0                  # how many minutes of speedups are needed for the the upgrade/challange\n",
    "rh = 0                  # how many hours of speedups are needed for the the upgrade/challange\n",
    "rd = 0                  # how many days of speedups are needed for the the upgrade/challange\n",
    "\n",
    "\n",
    "#############################################################\n",
    "################## All the Facy Code Stuff ##################\n",
    "#############################################################\n",
    "\n",
    "# note: you don't need to worry about or chanage anything past this point\n",
    "\n",
    "# Math Functions:\n",
    "st=(sm*1)+(sf*5)*(sh*60)\n",
    "gt=(sm*1)+(sf*5)*(sh*60)\n",
    "Δt=st+gt\n",
    "Δr=(rm*1)+(rh*60)+(rd*1440)\n",
    "Δmiss=Δr-Δt\n",
    "\n",
    "#Print Commands:\n",
    "print(u\"\\u001b[1m\\u001b[4m\\u001b[1m Speedups In Possession \\u001b[0m\")\n",
    "print('Specific Speedups (min) =',st)\n",
    "print('General Speedups (min) =',gt)\n",
    "print('Total Speedups (min) =',Δt)\n",
    "print('')\n",
    "print(u\"\\u001b[1m\\u001b[4m\\u001b[1m Speedups Required \\u001b[0m\")\n",
    "print('Total Speedups Needed (min) =',Δr)\n",
    "print('Missing Speedups (min) =',Δmiss)\n",
    "\n",
    "\n",
    "#############################################################\n",
    "############## Results Should Be Printed Below ##############\n",
    "#############################################################"
   ]
  },
  {
   "cell_type": "markdown",
   "metadata": {},
   "source": [
    "---"
   ]
  }
 ],
 "metadata": {
  "kernelspec": {
   "display_name": "Python 3",
   "language": "python",
   "name": "python3"
  },
  "language_info": {
   "codemirror_mode": {
    "name": "ipython",
    "version": 3
   },
   "file_extension": ".py",
   "mimetype": "text/x-python",
   "name": "python",
   "nbconvert_exporter": "python",
   "pygments_lexer": "ipython3",
   "version": "3.7.6"
  }
 },
 "nbformat": 4,
 "nbformat_minor": 2
}
